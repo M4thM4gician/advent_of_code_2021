{
 "cells": [
  {
   "cell_type": "markdown",
   "id": "00bf45f0",
   "metadata": {},
   "source": [
    "# Advent of Code Challenges - Day 4"
   ]
  },
  {
   "cell_type": "markdown",
   "id": "330f7724",
   "metadata": {},
   "source": [
    "## Load Libraries"
   ]
  },
  {
   "cell_type": "code",
   "execution_count": 1,
   "id": "c88e8441",
   "metadata": {},
   "outputs": [],
   "source": [
    "import numpy as np\n",
    "import pandas as pd\n",
    "\n",
    "from pandas import Series,DataFrame"
   ]
  },
  {
   "cell_type": "markdown",
   "id": "913c79eb",
   "metadata": {},
   "source": [
    "## Load Data"
   ]
  },
  {
   "cell_type": "code",
   "execution_count": 2,
   "id": "40ddb5d5",
   "metadata": {},
   "outputs": [],
   "source": [
    "input_path = './input.txt'\n",
    "\n",
    "with open(input_path) as f:\n",
    "    lines = f.readlines()\n",
    "f.close()\n",
    "\n",
    "# generate number list\n",
    "num_list = lines[0].replace(\"\\n\",\"\").split(\",\")\n",
    "num_list = Series(num_list).astype(int)"
   ]
  },
  {
   "cell_type": "markdown",
   "id": "4115a7c2",
   "metadata": {},
   "source": [
    "## Define Functions"
   ]
  },
  {
   "cell_type": "code",
   "execution_count": 3,
   "id": "4a1f6cf2",
   "metadata": {},
   "outputs": [],
   "source": [
    "def reset_scoreboards():\n",
    "    \"\"\"Generate list of boards with empty score boards and board indices\"\"\"\n",
    "    board_list = []\n",
    "    score_board = DataFrame([[0]*5 for x in range(0,5,1)])\n",
    "    board = []\n",
    "    board_index = 0\n",
    "    for line in lines[2:]:\n",
    "        if line == \"\\n\":\n",
    "            board = DataFrame(board)\n",
    "            board_list.append({'game_board':board, 'score_board':score_board.copy(), 'board_index':board_index})\n",
    "            board_index += 1\n",
    "            board = []\n",
    "        else:\n",
    "            board_row = line.replace(\"\\n\",\"\")\n",
    "            board_row = [int(line[x:x+2].strip()) for x in range(0,len(line),3)]\n",
    "            board.append(board_row)\n",
    "    board = DataFrame(board)\n",
    "    board_list.append({'game_board':board, 'score_board':score_board.copy(), 'board_index':board_index})\n",
    "    return(board_list)"
   ]
  },
  {
   "cell_type": "markdown",
   "id": "67cfd664",
   "metadata": {},
   "source": [
    "## Puzzle 1 - B-I-N-G-O!"
   ]
  },
  {
   "cell_type": "code",
   "execution_count": 4,
   "id": "b0e16cc1",
   "metadata": {},
   "outputs": [
    {
     "name": "stdout",
     "output_type": "stream",
     "text": [
      "{'game_board':     0   1   2   3   4\n",
      "0  59  22  70  86  99\n",
      "1  39  14  89  75  42\n",
      "2  12  87  55  67  28\n",
      "3  71  26  11  31  65\n",
      "4  73  74  58  46  94, 'score_board':    0  1  2  3  4\n",
      "0  1  0  0  0  1\n",
      "1  1  1  0  0  0\n",
      "2  1  0  0  0  0\n",
      "3  1  0  0  0  0\n",
      "4  1  1  0  0  1, 'board_index': 16}\n",
      "Board Index: 16\n",
      "Unmarked Sum: 858\n",
      "Last Number: 39\n",
      "Answer: 33462\n"
     ]
    }
   ],
   "source": [
    "# Determine first winning board\n",
    "# first board to win is the first board with a row or column of called numbers\n",
    "# score board by summing unmarked numbers and multiplying by the last number called\n",
    "board_list = reset_scoreboards()\n",
    "winner = False\n",
    "for num in num_list:\n",
    "    if not winner:\n",
    "        for board in board_list:\n",
    "            if any(board['game_board'] == num):\n",
    "                board['score_board'] += board['game_board'] == num\n",
    "            if (5 in board['score_board'].sum(axis=0).values) or (5 in board['score_board'].sum(axis=1).values):\n",
    "                print(board)\n",
    "                unmarked_sum = int(board['game_board'][board['score_board'] == 0].sum().sum())\n",
    "                answer = unmarked_sum*num\n",
    "                print(f\"Board Index: {board['board_index']}\")\n",
    "                print(f\"Unmarked Sum: {unmarked_sum}\")\n",
    "                print(f\"Last Number: {num}\")\n",
    "                print(f\"Answer: {answer}\")\n",
    "                winner = True\n",
    "                break\n",
    "        if winner:\n",
    "            break"
   ]
  },
  {
   "cell_type": "markdown",
   "id": "e14d094b",
   "metadata": {},
   "source": [
    "## Puzzle 2 - New Plan! Let the Wookie win."
   ]
  },
  {
   "cell_type": "code",
   "execution_count": 5,
   "id": "de46c867",
   "metadata": {},
   "outputs": [
    {
     "name": "stdout",
     "output_type": "stream",
     "text": [
      "Board Index: 91\n",
      "Unmarked Sum: 310\n",
      "Last Number: 97\n",
      "Answer: 30070\n"
     ]
    }
   ],
   "source": [
    "# Determine last winning board\n",
    "# last board to win is the last board with a row or column of called numbers\n",
    "# score board by summing unmarked numbers and multiplying by the last number called\n",
    "board_list = reset_scoreboards()\n",
    "done = False\n",
    "for num in num_list:\n",
    "    if not done:\n",
    "        for board in board_list:\n",
    "            if any(board['game_board'] == num):\n",
    "                board['score_board'] += board['game_board'] == num\n",
    "            if (5 in board['score_board'].sum(axis=0).values) or (5 in board['score_board'].sum(axis=1).values):\n",
    "                if len(board_list) > 1:\n",
    "                    board_list = [x for x in board_list if x['board_index'] != board['board_index']]\n",
    "                else:\n",
    "                    unmarked_sum = int(board['game_board'][board['score_board'] == 0].sum().sum())\n",
    "                    answer = unmarked_sum*num\n",
    "                    print(f\"Board Index: {board['board_index']}\")\n",
    "                    print(f\"Unmarked Sum: {unmarked_sum}\")\n",
    "                    print(f\"Last Number: {num}\")\n",
    "                    print(f\"Answer: {answer}\")\n",
    "                    done = True\n",
    "                    break\n",
    "            "
   ]
  }
 ],
 "metadata": {
  "kernelspec": {
   "display_name": "Python 3",
   "language": "python",
   "name": "python3"
  },
  "language_info": {
   "codemirror_mode": {
    "name": "ipython",
    "version": 3
   },
   "file_extension": ".py",
   "mimetype": "text/x-python",
   "name": "python",
   "nbconvert_exporter": "python",
   "pygments_lexer": "ipython3",
   "version": "3.9.2"
  }
 },
 "nbformat": 4,
 "nbformat_minor": 5
}
