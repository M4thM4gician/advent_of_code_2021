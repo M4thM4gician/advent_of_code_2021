{
 "cells": [
  {
   "cell_type": "markdown",
   "id": "00bf45f0",
   "metadata": {},
   "source": [
    "# Advent of Code Challenges - Day 0"
   ]
  },
  {
   "cell_type": "markdown",
   "id": "33e9bbef",
   "metadata": {},
   "source": [
    "## Import Libraries"
   ]
  },
  {
   "cell_type": "code",
   "execution_count": null,
   "id": "c88e8441",
   "metadata": {},
   "outputs": [],
   "source": [
    "import numpy as np\n",
    "import pandas as pd\n",
    "\n",
    "from pandas import Series,DataFrame"
   ]
  },
  {
   "cell_type": "markdown",
   "id": "3c871302",
   "metadata": {},
   "source": [
    "## Load Data"
   ]
  },
  {
   "cell_type": "code",
   "execution_count": null,
   "id": "40ddb5d5",
   "metadata": {},
   "outputs": [],
   "source": [
    "input_path = './input.txt'\n",
    "\n",
    "with open(input_path) as f:\n",
    "    lines = f.readlines()\n",
    "f.close()\n",
    "\n",
    "# transform data\n"
   ]
  },
  {
   "cell_type": "markdown",
   "id": "5b6e1fd3",
   "metadata": {},
   "source": [
    "## Define Functions"
   ]
  },
  {
   "cell_type": "code",
   "execution_count": null,
   "id": "77de2985",
   "metadata": {},
   "outputs": [],
   "source": []
  },
  {
   "cell_type": "markdown",
   "id": "94db94e4",
   "metadata": {},
   "source": [
    "## Puzzle 1"
   ]
  },
  {
   "cell_type": "code",
   "execution_count": null,
   "id": "9a8a7c60",
   "metadata": {},
   "outputs": [],
   "source": []
  },
  {
   "cell_type": "markdown",
   "id": "38e4c4e9",
   "metadata": {},
   "source": [
    "## Puzzle 2"
   ]
  },
  {
   "cell_type": "code",
   "execution_count": null,
   "id": "141007e8",
   "metadata": {},
   "outputs": [],
   "source": []
  }
 ],
 "metadata": {
  "kernelspec": {
   "display_name": "Python 3",
   "language": "python",
   "name": "python3"
  },
  "language_info": {
   "codemirror_mode": {
    "name": "ipython",
    "version": 3
   },
   "file_extension": ".py",
   "mimetype": "text/x-python",
   "name": "python",
   "nbconvert_exporter": "python",
   "pygments_lexer": "ipython3",
   "version": "3.9.2"
  }
 },
 "nbformat": 4,
 "nbformat_minor": 5
}
