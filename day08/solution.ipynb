{
 "cells": [
  {
   "cell_type": "markdown",
   "id": "00bf45f0",
   "metadata": {},
   "source": [
    "# Advent of Code Challenges - Day 8"
   ]
  },
  {
   "cell_type": "markdown",
   "id": "c6a171ad",
   "metadata": {},
   "source": [
    "## Load Libraries"
   ]
  },
  {
   "cell_type": "code",
   "execution_count": 1,
   "id": "c88e8441",
   "metadata": {},
   "outputs": [],
   "source": [
    "import numpy as np\n",
    "import pandas as pd\n",
    "\n",
    "from pandas import Series,DataFrame"
   ]
  },
  {
   "cell_type": "markdown",
   "id": "91696b34",
   "metadata": {},
   "source": [
    "## Load Data"
   ]
  },
  {
   "cell_type": "code",
   "execution_count": 2,
   "id": "40ddb5d5",
   "metadata": {},
   "outputs": [],
   "source": [
    "input_path = './input.txt'\n",
    "\n",
    "with open(input_path) as f:\n",
    "    lines = f.readlines()\n",
    "f.close()"
   ]
  },
  {
   "cell_type": "markdown",
   "id": "33e98bc2",
   "metadata": {},
   "source": [
    "## Define Functions"
   ]
  },
  {
   "cell_type": "code",
   "execution_count": 3,
   "id": "afece621",
   "metadata": {},
   "outputs": [],
   "source": [
    "def write_row(line):\n",
    "    line_split = line.replace(\"\\n\",\"\").split(\"|\")\n",
    "    line_input = line_split[0].strip()\n",
    "    line_output = line_split[1].strip()\n",
    "    row = line_input.split(\" \") + line_output.split(\" \")\n",
    "    return(row)\n",
    "\n",
    "data = [write_row(line) for line in lines]\n",
    "\n",
    "df = DataFrame(data)\n",
    "df.columns = [\"input_0\",\"input_1\",\"input_2\",\"input_3\",\"input_4\",\"input_5\",\"input_6\",\"input_7\",\"input_8\",\"input_9\",\"output_1\",\"output_2\",\"output_3\",\"output_4\"]"
   ]
  },
  {
   "cell_type": "code",
   "execution_count": 4,
   "id": "2fbd4c41",
   "metadata": {},
   "outputs": [],
   "source": [
    "def order(string):\n",
    "    \"\"\"Function to re-order all of the strings in alphabetical order.\"\"\"\n",
    "    string_list = [x for x in string]\n",
    "    string_list.sort()\n",
    "    ordered_string = \"\".join(string_list)\n",
    "    return ordered_string"
   ]
  },
  {
   "cell_type": "code",
   "execution_count": 5,
   "id": "93ab54d6",
   "metadata": {},
   "outputs": [],
   "source": [
    "def decode_input(row_input):\n",
    "    \"\"\"Function to decode the row input. Returns a dictionary of {'string':value}\"\"\"\n",
    "    for item in row_input:\n",
    "        if len(item) == 2:\n",
    "            one = {'string':item,'value':1}\n",
    "        if len(item) == 3:\n",
    "            seven = {'string':item,'value':7}\n",
    "        if len(item) == 4:\n",
    "            four = {'string':item,'value':4}\n",
    "        if len(item) == 7:\n",
    "            eight = {'string':item,'value':8}\n",
    "    for item in row_input:\n",
    "        if len(item) == 6:\n",
    "            if set(one['string']).difference(item) != set():\n",
    "                six = {'string':item,'value':6}\n",
    "            elif set(four['string']).difference(item) != set() and set(one['string']).difference(item) == set():\n",
    "                zero = {'string':item,'value':0}\n",
    "            else:\n",
    "                nine = {'string':item,'value':9}\n",
    "    for item in row_input:\n",
    "        if len(item) == 5:\n",
    "            if len(set(nine['string']).difference(item)) == 2:\n",
    "                two = {'string':item,'value':2}\n",
    "            elif len(set(six['string']).difference(item)) == 1:\n",
    "                five = {'string':item,'value':5}\n",
    "            else:\n",
    "                three = {'string':item,'value':3}\n",
    "    obj = {\n",
    "        zero['string']:zero['value'],\n",
    "        one['string']:one['value'],\n",
    "        two['string']:two['value'],\n",
    "        three['string']:three['value'],\n",
    "        four['string']:four['value'],\n",
    "        five['string']:five['value'],\n",
    "        six['string']:six['value'],\n",
    "        seven['string']:seven['value'],\n",
    "        eight['string']:eight['value'],\n",
    "        nine['string']:nine['value'],\n",
    "    }\n",
    "    return obj"
   ]
  },
  {
   "cell_type": "code",
   "execution_count": 6,
   "id": "499bb8c7",
   "metadata": {},
   "outputs": [],
   "source": [
    "def decode_output(decoded_dict,row_output):\n",
    "    \"\"\"Function to decode output using decoded dictionary returned by the decode_input() function.\n",
    "    Returns decoded output.\n",
    "    \"\"\"\n",
    "    decoded_output = \"\".join(list([str(decoded_dict[x]) for x in row_output]))\n",
    "    return(decoded_output)"
   ]
  },
  {
   "cell_type": "code",
   "execution_count": 7,
   "id": "76875454",
   "metadata": {},
   "outputs": [],
   "source": [
    "def decode_row(row):\n",
    "    \"\"\"Function to decode entire row. First decodes input, then applies decoded dictionary to decode output.\n",
    "    Returns decoded output as an integer.\n",
    "    \"\"\"\n",
    "    row_input = row[0:10]\n",
    "    row_output = row[10:14]\n",
    "    decoded_dict = decode_input(row_input)\n",
    "    decoded_output = decode_output(decoded_dict,row_output)\n",
    "    return(int(decoded_output))"
   ]
  },
  {
   "cell_type": "markdown",
   "id": "38e4c4e9",
   "metadata": {},
   "source": [
    "## Puzzle 1 - Death by Numbers!\n",
    "We are searching for all of the numbers in a seven-segment number display that are either 1, 4, 7, or 8. These numbers have a unique number of segments active when they are displayed ('1' has 2 segments, '4' has 4 segments, '7' has 3 segments, and '8' has 7 segments). To count the total number of '1's, '4's, '7's, and '8's, we will:\n",
    "1. Create a new DataFrame with just the length values of the output columns from our 'df' DataFrame\n",
    "2. Sum the number of elements with value in [2, 3, 4, 7]"
   ]
  },
  {
   "cell_type": "code",
   "execution_count": 8,
   "id": "662e30e6",
   "metadata": {},
   "outputs": [
    {
     "name": "stdout",
     "output_type": "stream",
     "text": [
      "Anser: 409\n"
     ]
    }
   ],
   "source": [
    "output_df = DataFrame()\n",
    "\n",
    "output_df['output_1_len'] = [len(x) for x in df['output_1']]\n",
    "output_df['output_2_len'] = [len(x) for x in df['output_2']]\n",
    "output_df['output_3_len'] = [len(x) for x in df['output_3']]\n",
    "output_df['output_4_len'] = [len(x) for x in df['output_4']]\n",
    "\n",
    "answer = output_df[['output_1_len', 'output_2_len', 'output_3_len', 'output_4_len']].isin([2,3,4,7]).sum().sum()\n",
    "print(f\"Anser: {answer}\")"
   ]
  },
  {
   "cell_type": "markdown",
   "id": "e14d094b",
   "metadata": {},
   "source": [
    "## Puzzle 2 - Count with me!\n",
    "Your mission, should you choose to accept it, is to use the coded input to decode the output. Sum the decoded outputs to produce the answer and disarm the missile!"
   ]
  },
  {
   "cell_type": "code",
   "execution_count": 9,
   "id": "8d087194",
   "metadata": {},
   "outputs": [],
   "source": [
    "# reorder all strings in the df\n",
    "for col in df.columns:\n",
    "    df[col] = [order(x) for x in df[col]]"
   ]
  },
  {
   "cell_type": "code",
   "execution_count": 10,
   "id": "c19120e2",
   "metadata": {},
   "outputs": [
    {
     "name": "stdout",
     "output_type": "stream",
     "text": [
      "Answer: 1024649\n"
     ]
    }
   ],
   "source": [
    "decoded_values = Series([decode_row(x) for x in df.values])\n",
    "answer = decoded_values.sum()\n",
    "print(f'Answer: {answer}')"
   ]
  }
 ],
 "metadata": {
  "kernelspec": {
   "display_name": "Python 3.8.10 64-bit",
   "language": "python",
   "name": "python3"
  },
  "language_info": {
   "codemirror_mode": {
    "name": "ipython",
    "version": 3
   },
   "file_extension": ".py",
   "mimetype": "text/x-python",
   "name": "python",
   "nbconvert_exporter": "python",
   "pygments_lexer": "ipython3",
   "version": "3.8.10"
  },
  "vscode": {
   "interpreter": {
    "hash": "916dbcbb3f70747c44a77c7bcd40155683ae19c65e1c03b4aa3499c5328201f1"
   }
  }
 },
 "nbformat": 4,
 "nbformat_minor": 5
}
