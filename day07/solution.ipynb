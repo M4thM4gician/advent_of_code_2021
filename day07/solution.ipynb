{
 "cells": [
  {
   "cell_type": "markdown",
   "id": "00bf45f0",
   "metadata": {},
   "source": [
    "# Advent of Code Challenges - Day 7"
   ]
  },
  {
   "cell_type": "markdown",
   "id": "66947b3a",
   "metadata": {},
   "source": [
    "## Load Libraries"
   ]
  },
  {
   "cell_type": "code",
   "execution_count": 10,
   "id": "c88e8441",
   "metadata": {},
   "outputs": [],
   "source": [
    "import numpy as np\n",
    "import pandas as pd\n",
    "\n",
    "from pandas import Series,DataFrame"
   ]
  },
  {
   "cell_type": "markdown",
   "id": "7bcd6479",
   "metadata": {},
   "source": [
    "## Load Data"
   ]
  },
  {
   "cell_type": "code",
   "execution_count": 11,
   "id": "40ddb5d5",
   "metadata": {},
   "outputs": [],
   "source": [
    "input_path = './input.txt'\n",
    "\n",
    "with open(input_path) as f:\n",
    "    lines = f.readlines()\n",
    "f.close()\n",
    "\n",
    "# Convert data to pandas Series\n",
    "data = lines[0].split(\",\")\n",
    "data = [int(x) for x in data]\n",
    "series = Series(data)"
   ]
  },
  {
   "cell_type": "markdown",
   "id": "09924421",
   "metadata": {},
   "source": [
    "## Define Functions"
   ]
  },
  {
   "cell_type": "code",
   "execution_count": 12,
   "id": "25740bc5",
   "metadata": {},
   "outputs": [],
   "source": [
    "def calc_fuel_cost(n):\n",
    "    if n == 0:\n",
    "        fuel_cost = 0\n",
    "    else:\n",
    "        fuel_cost = Series([n - x for x in range(0,n,1)]).sum()\n",
    "    return(fuel_cost)"
   ]
  },
  {
   "cell_type": "markdown",
   "id": "38e4c4e9",
   "metadata": {},
   "source": [
    "## Puzzle 1 - Shellfish, to the rescue!\n",
    "A large number of crabs joins your flight from Mobey Dick. Their objective, to blast a hole in the sea floor to open up a passage to a series of caves (Wow! That was lucky):\n",
    "- The crabs must all be aligned to a single horizontal position\n",
    "- This must be done in a way that minimizes fuel costs (crab submarines have limited fuel)"
   ]
  },
  {
   "cell_type": "code",
   "execution_count": 13,
   "id": "5c39bff9",
   "metadata": {},
   "outputs": [
    {
     "name": "stdout",
     "output_type": "stream",
     "text": [
      "2.0\n"
     ]
    }
   ],
   "source": [
    "# in the example, the position selected to minimze fuel costs was 2.\n",
    "# this also happens to be the median of the series. Let's see if the same holds true for the full dataset\n",
    "sample_list = [16,1,2,0,4,2,7,1,2,14]\n",
    "sample_series = Series(sample_list)\n",
    "print(sample_series.median())"
   ]
  },
  {
   "cell_type": "code",
   "execution_count": 14,
   "id": "713e9024",
   "metadata": {},
   "outputs": [
    {
     "name": "stdout",
     "output_type": "stream",
     "text": [
      "Answer: 345197\n"
     ]
    }
   ],
   "source": [
    "series_median = series.median()\n",
    "\n",
    "df = DataFrame(series)\n",
    "df.columns = ['start_pos']\n",
    "df['fuel_cost'] = abs(series_median - df.start_pos)\n",
    "total_fuel_cost = df['fuel_cost'].sum()\n",
    "print(f\"Answer: {int(total_fuel_cost)}\")"
   ]
  },
  {
   "cell_type": "markdown",
   "id": "e14d094b",
   "metadata": {},
   "source": [
    "## Puzzle 2 - Fuel costs keep rising!\n",
    "Crabs are getting crabby, go figure.  The crabs apparently designed their submarines in a way that causes more fuel to be burned, the further they travel.  Traveling 1 unit costs 1 fuel, traveling 1 more unit costs 2 (total of 3). And so on and so forth.  Determine the horizontal for them to 'meet in the middle'."
   ]
  },
  {
   "cell_type": "code",
   "execution_count": 15,
   "id": "a1bd4ca9",
   "metadata": {},
   "outputs": [
    {
     "name": "stdout",
     "output_type": "stream",
     "text": [
      "Sample Mean: 4.9\n",
      "Rounded Sample Mean: 5\n"
     ]
    }
   ],
   "source": [
    "print(f\"Sample Mean: {sample_series.mean()}\")\n",
    "print(f\"Rounded Sample Mean: {round(sample_series.mean())}\")"
   ]
  },
  {
   "cell_type": "code",
   "execution_count": 16,
   "id": "57d6eb4b",
   "metadata": {},
   "outputs": [
    {
     "name": "stdout",
     "output_type": "stream",
     "text": [
      "Series Mean: 475.563\n",
      "Rounded Series Mean: 476\n"
     ]
    }
   ],
   "source": [
    "# it appears that ths mean of the sample, (4.9)\n",
    "# rounded to the nearest whole number (5)\n",
    "# happens to be the be the best position. Let's see if the same holds true for the full dataset\n",
    "series_mean = series.mean()\n",
    "rounded_series_mean = round(series_mean)\n",
    "print(f\"Series Mean: {series_mean}\")\n",
    "print(f\"Rounded Series Mean: {rounded_series_mean}\")"
   ]
  },
  {
   "cell_type": "markdown",
   "id": "b4d61bc4",
   "metadata": {},
   "source": [
    "We will try both 447 and 448 as the mean is half way betwen them. We will start with 448 as that is what the value rounds to using the round() function."
   ]
  },
  {
   "cell_type": "code",
   "execution_count": 17,
   "id": "99c1c33c",
   "metadata": {},
   "outputs": [
    {
     "name": "stdout",
     "output_type": "stream",
     "text": [
      "Answer: 96361630\n"
     ]
    }
   ],
   "source": [
    "df = DataFrame(series)\n",
    "df.columns = ['start_pos']\n",
    "df['distance'] = abs(rounded_series_mean - df.start_pos)\n",
    "df['fuel_cost'] = [calc_fuel_cost(x) for x in df['distance']]\n",
    "total_fuel_cost = df['fuel_cost'].sum()\n",
    "print(f\"Answer: {int(total_fuel_cost)}\")"
   ]
  },
  {
   "cell_type": "markdown",
   "id": "e3e377b0",
   "metadata": {},
   "source": [
    "This was not correct. We will try with 447"
   ]
  },
  {
   "cell_type": "code",
   "execution_count": 20,
   "id": "9d5ff270",
   "metadata": {},
   "outputs": [
    {
     "name": "stdout",
     "output_type": "stream",
     "text": [
      "Answer: 96361606\n"
     ]
    }
   ],
   "source": [
    "rounded_series_mean = 475\n",
    "df = DataFrame(series)\n",
    "df.columns = ['start_pos']\n",
    "df['distance'] = abs(rounded_series_mean - df.start_pos)\n",
    "df['fuel_cost'] = [calc_fuel_cost(x) for x in df['distance']]\n",
    "total_fuel_cost = df['fuel_cost'].sum()\n",
    "print(f\"Answer: {int(total_fuel_cost)}\")"
   ]
  },
  {
   "cell_type": "markdown",
   "id": "ddc85783",
   "metadata": {},
   "source": [
    "Huzzah! We have found the correct answer!"
   ]
  }
 ],
 "metadata": {
  "kernelspec": {
   "display_name": "Python 3.8.10 64-bit",
   "language": "python",
   "name": "python3"
  },
  "language_info": {
   "codemirror_mode": {
    "name": "ipython",
    "version": 3
   },
   "file_extension": ".py",
   "mimetype": "text/x-python",
   "name": "python",
   "nbconvert_exporter": "python",
   "pygments_lexer": "ipython3",
   "version": "3.8.10"
  },
  "vscode": {
   "interpreter": {
    "hash": "916dbcbb3f70747c44a77c7bcd40155683ae19c65e1c03b4aa3499c5328201f1"
   }
  }
 },
 "nbformat": 4,
 "nbformat_minor": 5
}
