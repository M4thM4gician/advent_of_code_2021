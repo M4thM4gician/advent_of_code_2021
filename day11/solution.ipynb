{
 "cells": [
  {
   "cell_type": "markdown",
   "id": "00bf45f0",
   "metadata": {},
   "source": [
    "# Advent of Code Challenges - Day 11"
   ]
  },
  {
   "cell_type": "markdown",
   "id": "33e9bbef",
   "metadata": {},
   "source": [
    "## Import Libraries"
   ]
  },
  {
   "cell_type": "code",
   "execution_count": 1,
   "id": "c88e8441",
   "metadata": {},
   "outputs": [],
   "source": [
    "import numpy as np\n",
    "import pandas as pd\n",
    "\n",
    "from pandas import Series,DataFrame"
   ]
  },
  {
   "cell_type": "markdown",
   "id": "aba7d3b7",
   "metadata": {},
   "source": [
    "## Define Functions"
   ]
  },
  {
   "cell_type": "code",
   "execution_count": 2,
   "id": "61531f8d",
   "metadata": {},
   "outputs": [],
   "source": [
    "def flash_step(input_df,point_list):\n",
    "    for x,y in point_list:\n",
    "        if x > 0 and x < 9:\n",
    "            if y > 0 and y < 9:\n",
    "                input_df.iloc[x-1:x+2,y-1:y+2] += 1\n",
    "            elif y == 0:\n",
    "                input_df.iloc[x-1:x+2,y:y+2] += 1\n",
    "            elif y == 9:\n",
    "                input_df.iloc[x-1:x+2,y-1:y+1] += 1\n",
    "        elif x == 0:\n",
    "            if y > 0 and y < 9:\n",
    "                input_df.iloc[x:x+2,y-1:y+2] += 1\n",
    "            elif y == 0:\n",
    "                input_df.iloc[x:x+2,y:y+2] += 1\n",
    "            elif y == 9:\n",
    "                input_df.iloc[x:x+2,y-1:y+1] += 1\n",
    "        elif x == 9:\n",
    "            if y > 0 and y < 9:\n",
    "                input_df.iloc[x-1:x+1,y-1:y+2] += 1\n",
    "            elif y == 0:\n",
    "                input_df.iloc[x-1:x+1,y:y+2] += 1\n",
    "            elif y == 9:\n",
    "                input_df.iloc[x-1:x+1,y-1:y+1] += 1\n",
    "    return input_df"
   ]
  },
  {
   "cell_type": "code",
   "execution_count": 10,
   "id": "e20a8c6b",
   "metadata": {},
   "outputs": [],
   "source": [
    "def get_flashes(input_df):\n",
    "    output = [(x,y) for x in range(0,10) for y in range(0,10) if input_df.iloc[x,y] > 9]\n",
    "    return output"
   ]
  },
  {
   "cell_type": "code",
   "execution_count": 4,
   "id": "bd531d11",
   "metadata": {},
   "outputs": [],
   "source": [
    "def flash_run(input_df):\n",
    "    flash_points = get_flashes(input_df)\n",
    "    input_df = flash_step(input_df, flash_points)\n",
    "    all_flash_points = get_flashes(input_df)\n",
    "    new_flash_points = list(set(all_flash_points).difference(set(flash_points)))\n",
    "    while len(new_flash_points) > 0:\n",
    "        flash_points = get_flashes(input_df)\n",
    "        input_df = flash_step(input_df, new_flash_points)\n",
    "        all_flash_points = (get_flashes(input_df))\n",
    "        new_flash_points = list(set(all_flash_points).difference(set(flash_points)))\n",
    "    for x,y in all_flash_points:\n",
    "        input_df.iloc[x,y] = 0\n",
    "    return input_df"
   ]
  },
  {
   "cell_type": "markdown",
   "id": "3c871302",
   "metadata": {},
   "source": [
    "## Load Data"
   ]
  },
  {
   "cell_type": "code",
   "execution_count": 11,
   "id": "40ddb5d5",
   "metadata": {},
   "outputs": [],
   "source": [
    "input_path = './input.txt'\n",
    "\n",
    "with open(input_path) as f:\n",
    "    lines = f.readlines()\n",
    "f.close()"
   ]
  },
  {
   "cell_type": "markdown",
   "id": "94db94e4",
   "metadata": {},
   "source": [
    "## Puzzle 1 - I think I've seen about everything...\n",
    "We have no choice but to shut down our festiv lighting as it is agrivating the local dumbos.  However, we should be able to navigate by using the light emitted by the dumbos. They light up when their individual energy reaches 10, and reset to 0.  Their energy increases by 1 every second and also if a nearby dumbo flashes them.  Using this information, determine how many flashes we will have observed in 100 seconds."
   ]
  },
  {
   "cell_type": "code",
   "execution_count": 14,
   "id": "0b24c658",
   "metadata": {},
   "outputs": [
    {
     "name": "stdout",
     "output_type": "stream",
     "text": [
      "Answer: 1667\n"
     ]
    }
   ],
   "source": [
    "# transform data into a pandas DataFrame\n",
    "df = DataFrame([[int(x) for x in line.replace(\"\\n\",\"\")] for line in lines])\n",
    "\n",
    "# reset the number of observed flashes\n",
    "flashes = 0\n",
    "\n",
    "# 'flash' the dataframe and count the number of octopuses that flashed\n",
    "for n in range(0,100):\n",
    "    df = df + 1\n",
    "    df = flash_run(df)\n",
    "    flashes += (df == 0).sum().sum()\n",
    "\n",
    "# Answer is the total number of flashes that occurred in 100 seconds.\n",
    "print(f\"Answer: {flashes}\")"
   ]
  },
  {
   "cell_type": "markdown",
   "id": "38e4c4e9",
   "metadata": {},
   "source": [
    "## Puzzle 2 - And then there was light...\n",
    "Turns out elf night vision is a myth. Apparently, the elves need MAXIMUM LUZ to navigate. Eventually, all of the dumbos in the cavern will flash at the same time turning into a DUMBO FLASH MOB!  At that moment, everything will become clear.  But WHEN? When will that happen?"
   ]
  },
  {
   "cell_type": "code",
   "execution_count": 15,
   "id": "141007e8",
   "metadata": {},
   "outputs": [
    {
     "name": "stdout",
     "output_type": "stream",
     "text": [
      "Answer: 488\n"
     ]
    }
   ],
   "source": [
    "# transform data into a pandas DataFrame\n",
    "df = DataFrame([[int(x) for x in line.replace(\"\\n\",\"\")] for line in lines])\n",
    "\n",
    "# reset the number of observed flashes\n",
    "flashes = 0\n",
    "\n",
    "# 'flash' the dataframe and count the number of octopuses that flashed, stop if all of the octopuses flashed (sum = 100)\n",
    "for n in range(1,10000):\n",
    "    df = df + 1\n",
    "    df = flash_run(df)\n",
    "    if (df == 0).sum().sum() == 100:\n",
    "        break\n",
    "\n",
    "# Answer is the first step where all octopuses flashed at the same time\n",
    "print(f\"Answer: {n}\")"
   ]
  }
 ],
 "metadata": {
  "kernelspec": {
   "display_name": "Python 3",
   "language": "python",
   "name": "python3"
  },
  "language_info": {
   "codemirror_mode": {
    "name": "ipython",
    "version": 3
   },
   "file_extension": ".py",
   "mimetype": "text/x-python",
   "name": "python",
   "nbconvert_exporter": "python",
   "pygments_lexer": "ipython3",
   "version": "3.9.2"
  }
 },
 "nbformat": 4,
 "nbformat_minor": 5
}
