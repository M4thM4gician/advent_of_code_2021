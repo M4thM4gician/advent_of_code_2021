{
 "cells": [
  {
   "cell_type": "markdown",
   "id": "00bf45f0",
   "metadata": {},
   "source": [
    "# Advent of Code Challenges - Day 10"
   ]
  },
  {
   "cell_type": "markdown",
   "id": "33e9bbef",
   "metadata": {},
   "source": [
    "## Import Libraries"
   ]
  },
  {
   "cell_type": "code",
   "execution_count": 1,
   "id": "c88e8441",
   "metadata": {},
   "outputs": [],
   "source": [
    "import numpy as np\n",
    "import pandas as pd\n",
    "\n",
    "from pandas import Series,DataFrame"
   ]
  },
  {
   "cell_type": "markdown",
   "id": "3c871302",
   "metadata": {},
   "source": [
    "## Load Data"
   ]
  },
  {
   "cell_type": "code",
   "execution_count": 2,
   "id": "40ddb5d5",
   "metadata": {},
   "outputs": [],
   "source": [
    "input_path = './input.txt'\n",
    "\n",
    "with open(input_path) as f:\n",
    "    lines = f.readlines()\n",
    "f.close()"
   ]
  },
  {
   "cell_type": "markdown",
   "id": "5b6e1fd3",
   "metadata": {},
   "source": [
    "## Define Functions"
   ]
  },
  {
   "cell_type": "code",
   "execution_count": 3,
   "id": "77de2985",
   "metadata": {},
   "outputs": [],
   "source": [
    "def score_chunk(chunk):\n",
    "    score = 0\n",
    "    score_dict = {')':1, ']':2, '}':3, '>':4}\n",
    "    for char in chunk:\n",
    "        score *= 5\n",
    "        score += score_dict[char]\n",
    "    return score"
   ]
  },
  {
   "cell_type": "markdown",
   "id": "94db94e4",
   "metadata": {},
   "source": [
    "## Puzzle 1\n",
    "We have been informed that our on board TomTom is not working. Apparently every line of code is corrupt (what is this, Gotham PD?).  We need to first of all find the corrupt lines and score them according to the first incorrect character in the string.\n",
    "- ')' = 3 pts\n",
    "- ']' = 57 pts\n",
    "- '}' = 1197 pts\n",
    "- '>' = 25137 pts"
   ]
  },
  {
   "cell_type": "code",
   "execution_count": 4,
   "id": "d4653fd2",
   "metadata": {},
   "outputs": [],
   "source": [
    "total_score = 0\n",
    "opener_list = ['(', '[', '{', '<']\n",
    "closer_list = [')', ']', '}', '>']\n",
    "score_dict = {\n",
    "    ')':3, \n",
    "    ']':57, \n",
    "    '}':1197, \n",
    "    '>':25137\n",
    "}\n",
    "\n",
    "for line in lines:\n",
    "    sub_line = line.replace(\"\\n\",\"\")\n",
    "    prev_len = len(sub_line)\n",
    "    curr_len = 0\n",
    "    while prev_len != curr_len:\n",
    "        prev_len = len(sub_line)\n",
    "        sub_line = sub_line.replace('()','').replace('[]','').replace('{}','').replace('<>','')\n",
    "        curr_len = len(sub_line)\n",
    "\n",
    "    corrupt_char_list = [x for x in sub_line if x not in opener_list]\n",
    "    if len(corrupt_char_list) > 0:\n",
    "        total_score += score_dict[corrupt_char_list[0]]"
   ]
  },
  {
   "cell_type": "code",
   "execution_count": 5,
   "id": "9a8a7c60",
   "metadata": {},
   "outputs": [
    {
     "name": "stdout",
     "output_type": "stream",
     "text": [
      "Answer: 464991\n"
     ]
    }
   ],
   "source": [
    "print(f\"Answer: {total_score}\")"
   ]
  },
  {
   "cell_type": "markdown",
   "id": "38e4c4e9",
   "metadata": {},
   "source": [
    "## Puzzle 2"
   ]
  },
  {
   "cell_type": "markdown",
   "id": "1592c6c5",
   "metadata": {},
   "source": [
    "Now we are having flashbacks to English class where we kept having 'incomplete sentences'.  We need to complete each line of code with a closing chunk that closes all open chunks in the correct order.  The answer will be the score of the closing chunk, scored as such:\n",
    "1. The score of the chunk starts with 0\n",
    "2. For each character, multiply the previous score by 5 and add the corresponding character score:\n",
    "  * ')' = 1 pt\n",
    "  * ']' = 2 pts\n",
    "  * '}' = 3 pts\n",
    "  * '>' = 4 pts"
   ]
  },
  {
   "cell_type": "code",
   "execution_count": 6,
   "id": "915a233f",
   "metadata": {},
   "outputs": [
    {
     "name": "stdout",
     "output_type": "stream",
     "text": [
      "Answer: 3662008566\n"
     ]
    }
   ],
   "source": [
    "score_list = []\n",
    "opener_list = ['(', '[', '{', '<']\n",
    "closer_list = [')', ']', '}', '>']\n",
    "\n",
    "\n",
    "for line in lines:\n",
    "    sub_line = line.replace(\"\\n\",\"\")\n",
    "    prev_len = len(sub_line)\n",
    "    curr_len = 0\n",
    "    while prev_len != curr_len:\n",
    "        prev_len = len(sub_line)\n",
    "        sub_line = sub_line.replace('()','').replace('[]','').replace('{}','').replace('<>','')\n",
    "        curr_len = len(sub_line)\n",
    "\n",
    "    corrupt_char_list = [x for x in sub_line if x not in opener_list]\n",
    "    if len(corrupt_char_list) == 0:\n",
    "        sub_line = sub_line[::-1]\n",
    "        close_chunk = \"\".join([closer_list[opener_list.index(char)] for char in sub_line])\n",
    "        score_list.append(score_chunk(close_chunk))\n",
    "\n",
    "answer = int(Series(score_list).median())\n",
    "print(f\"Answer: {answer}\")"
   ]
  }
 ],
 "metadata": {
  "kernelspec": {
   "display_name": "Python 3.8.10 64-bit",
   "language": "python",
   "name": "python3"
  },
  "language_info": {
   "codemirror_mode": {
    "name": "ipython",
    "version": 3
   },
   "file_extension": ".py",
   "mimetype": "text/x-python",
   "name": "python",
   "nbconvert_exporter": "python",
   "pygments_lexer": "ipython3",
   "version": "3.8.10"
  },
  "vscode": {
   "interpreter": {
    "hash": "916dbcbb3f70747c44a77c7bcd40155683ae19c65e1c03b4aa3499c5328201f1"
   }
  }
 },
 "nbformat": 4,
 "nbformat_minor": 5
}
