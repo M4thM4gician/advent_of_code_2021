{
 "cells": [
  {
   "cell_type": "markdown",
   "id": "4f310c06",
   "metadata": {},
   "source": [
    "# Advent of Code Challenges - Day 1"
   ]
  },
  {
   "cell_type": "code",
   "execution_count": 1,
   "id": "19b26546",
   "metadata": {},
   "outputs": [],
   "source": [
    "# load libraries\n",
    "import numpy as np\n",
    "import pandas as pd\n",
    "\n",
    "from pandas import Series, DataFrame"
   ]
  },
  {
   "cell_type": "code",
   "execution_count": 2,
   "id": "b7b5b5ac",
   "metadata": {},
   "outputs": [],
   "source": [
    "# load data\n",
    "input_path = './input.txt'\n",
    "\n",
    "with open(input_path) as f:\n",
    "    lines = f.readlines()\n",
    "f.close()\n",
    "\n",
    "df = DataFrame(lines).astype(int)"
   ]
  },
  {
   "cell_type": "markdown",
   "id": "3075dea8",
   "metadata": {},
   "source": [
    "## Puzzle 1 - Assess increase from one value to the next\n",
    "The first challenge, the VERY FIRST ONE, is to compare one number to the next and see how many times the new number is bitter than the last.  To do this, we will:\n",
    "1. Create a new column in our DataFrame offsetting the value of our original column by 1\n",
    "2. Produce a True/Valse array using the comparison df['col_1'] > df['col_2'] and sum the True values"
   ]
  },
  {
   "cell_type": "code",
   "execution_count": 3,
   "id": "470502dc",
   "metadata": {},
   "outputs": [
    {
     "data": {
      "text/html": [
       "<div>\n",
       "<style scoped>\n",
       "    .dataframe tbody tr th:only-of-type {\n",
       "        vertical-align: middle;\n",
       "    }\n",
       "\n",
       "    .dataframe tbody tr th {\n",
       "        vertical-align: top;\n",
       "    }\n",
       "\n",
       "    .dataframe thead th {\n",
       "        text-align: right;\n",
       "    }\n",
       "</style>\n",
       "<table border=\"1\" class=\"dataframe\">\n",
       "  <thead>\n",
       "    <tr style=\"text-align: right;\">\n",
       "      <th></th>\n",
       "      <th>0</th>\n",
       "      <th>1</th>\n",
       "    </tr>\n",
       "  </thead>\n",
       "  <tbody>\n",
       "    <tr>\n",
       "      <th>0</th>\n",
       "      <td>122</td>\n",
       "      <td>122</td>\n",
       "    </tr>\n",
       "    <tr>\n",
       "      <th>1</th>\n",
       "      <td>129</td>\n",
       "      <td>122</td>\n",
       "    </tr>\n",
       "    <tr>\n",
       "      <th>2</th>\n",
       "      <td>116</td>\n",
       "      <td>129</td>\n",
       "    </tr>\n",
       "    <tr>\n",
       "      <th>3</th>\n",
       "      <td>122</td>\n",
       "      <td>116</td>\n",
       "    </tr>\n",
       "    <tr>\n",
       "      <th>4</th>\n",
       "      <td>135</td>\n",
       "      <td>122</td>\n",
       "    </tr>\n",
       "  </tbody>\n",
       "</table>\n",
       "</div>"
      ],
      "text/plain": [
       "     0    1\n",
       "0  122  122\n",
       "1  129  122\n",
       "2  116  129\n",
       "3  122  116\n",
       "4  135  122"
      ]
     },
     "execution_count": 3,
     "metadata": {},
     "output_type": "execute_result"
    }
   ],
   "source": [
    "# Count the number of times the value increases from one line to the next\n",
    "df[1] = [df.iloc[x,0] if x == 0 else df.iloc[x-1,0] for x in df.index]\n",
    "\n",
    "# Print out the first 5 records to verify our column creation was successful\n",
    "df.head()"
   ]
  },
  {
   "cell_type": "code",
   "execution_count": 4,
   "id": "f6643762",
   "metadata": {},
   "outputs": [
    {
     "name": "stdout",
     "output_type": "stream",
     "text": [
      "Answer: 1462\n"
     ]
    }
   ],
   "source": [
    "answer = (df[0] > df[1]).sum()\n",
    "print(f\"Answer: {answer}\")"
   ]
  },
  {
   "cell_type": "markdown",
   "id": "4396be76",
   "metadata": {},
   "source": [
    "## Puzzle 2 - Assess increase from one 3-digit sliding sum to the next\n",
    "In this Part II of the challenge, we are looking at doing a sliding sum of 3 digits to help reduce 'noise' as we're scanning the depth from one position to the next. We will use a similar method to Part I.\n",
    "1. Create a column of the sliding sum for our current position\n",
    "  * Use a large filler value in the first **2** positions to prevent accidentally counting the first row as an increase over nothing\n",
    "2. Create a column of the sliding sum for our position, lag 1\n",
    "  * Use a large filler value in the first **3** positions to prevent accidentally counting the first row as an increase over nothing\n",
    "3. Produce a True/False array using the comparison df['col_1'] > df['col_2'] and sum the True values"
   ]
  },
  {
   "cell_type": "code",
   "execution_count": 6,
   "id": "4e680536",
   "metadata": {},
   "outputs": [
    {
     "data": {
      "text/html": [
       "<div>\n",
       "<style scoped>\n",
       "    .dataframe tbody tr th:only-of-type {\n",
       "        vertical-align: middle;\n",
       "    }\n",
       "\n",
       "    .dataframe tbody tr th {\n",
       "        vertical-align: top;\n",
       "    }\n",
       "\n",
       "    .dataframe thead th {\n",
       "        text-align: right;\n",
       "    }\n",
       "</style>\n",
       "<table border=\"1\" class=\"dataframe\">\n",
       "  <thead>\n",
       "    <tr style=\"text-align: right;\">\n",
       "      <th></th>\n",
       "      <th>0</th>\n",
       "      <th>1</th>\n",
       "      <th>2</th>\n",
       "      <th>3</th>\n",
       "    </tr>\n",
       "  </thead>\n",
       "  <tbody>\n",
       "    <tr>\n",
       "      <th>0</th>\n",
       "      <td>122</td>\n",
       "      <td>122</td>\n",
       "      <td>100000</td>\n",
       "      <td>100000</td>\n",
       "    </tr>\n",
       "    <tr>\n",
       "      <th>1</th>\n",
       "      <td>129</td>\n",
       "      <td>122</td>\n",
       "      <td>100000</td>\n",
       "      <td>100000</td>\n",
       "    </tr>\n",
       "    <tr>\n",
       "      <th>2</th>\n",
       "      <td>116</td>\n",
       "      <td>129</td>\n",
       "      <td>367</td>\n",
       "      <td>100000</td>\n",
       "    </tr>\n",
       "    <tr>\n",
       "      <th>3</th>\n",
       "      <td>122</td>\n",
       "      <td>116</td>\n",
       "      <td>367</td>\n",
       "      <td>367</td>\n",
       "    </tr>\n",
       "    <tr>\n",
       "      <th>4</th>\n",
       "      <td>135</td>\n",
       "      <td>122</td>\n",
       "      <td>373</td>\n",
       "      <td>367</td>\n",
       "    </tr>\n",
       "  </tbody>\n",
       "</table>\n",
       "</div>"
      ],
      "text/plain": [
       "     0    1       2       3\n",
       "0  122  122  100000  100000\n",
       "1  129  122  100000  100000\n",
       "2  116  129     367  100000\n",
       "3  122  116     367     367\n",
       "4  135  122     373     367"
      ]
     },
     "execution_count": 6,
     "metadata": {},
     "output_type": "execute_result"
    }
   ],
   "source": [
    "# Count the number of times the 3-digit sliding value increases from one line to the next\n",
    "df[2] = [100000 if x <= 1 else df.iloc[x-2:x+1,0].sum() for x in df.index]\n",
    "df[3] = [100000 if x <= 2 else df.iloc[x-3:x,0].sum() for x in df.index]\n",
    "\n",
    "# Print out the first 5 records to verify our column creation was successful\n",
    "df.head()"
   ]
  },
  {
   "cell_type": "code",
   "execution_count": 7,
   "id": "80bde53f",
   "metadata": {},
   "outputs": [
    {
     "name": "stdout",
     "output_type": "stream",
     "text": [
      "Answer: 1497\n"
     ]
    }
   ],
   "source": [
    "answer = (df[2] > df[3]).sum()\n",
    "print(f\"Answer: {answer}\")"
   ]
  }
 ],
 "metadata": {
  "kernelspec": {
   "display_name": "Python 3",
   "language": "python",
   "name": "python3"
  },
  "language_info": {
   "codemirror_mode": {
    "name": "ipython",
    "version": 3
   },
   "file_extension": ".py",
   "mimetype": "text/x-python",
   "name": "python",
   "nbconvert_exporter": "python",
   "pygments_lexer": "ipython3",
   "version": "3.9.2"
  }
 },
 "nbformat": 4,
 "nbformat_minor": 5
}
