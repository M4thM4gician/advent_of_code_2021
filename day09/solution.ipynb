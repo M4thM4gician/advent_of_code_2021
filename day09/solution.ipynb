{
 "cells": [
  {
   "cell_type": "markdown",
   "id": "00bf45f0",
   "metadata": {},
   "source": [
    "# Advent of Code Challenges - Day 9"
   ]
  },
  {
   "cell_type": "markdown",
   "id": "33e9bbef",
   "metadata": {},
   "source": [
    "## Import Libraries"
   ]
  },
  {
   "cell_type": "code",
   "execution_count": 1,
   "id": "c88e8441",
   "metadata": {},
   "outputs": [],
   "source": [
    "import numpy as np\n",
    "import pandas as pd\n",
    "\n",
    "from pandas import Series,DataFrame"
   ]
  },
  {
   "cell_type": "markdown",
   "id": "3c871302",
   "metadata": {},
   "source": [
    "## Load Data"
   ]
  },
  {
   "cell_type": "code",
   "execution_count": 2,
   "id": "40ddb5d5",
   "metadata": {},
   "outputs": [],
   "source": [
    "input_path = './input.txt'\n",
    "\n",
    "with open(input_path) as f:\n",
    "    lines = f.readlines()\n",
    "f.close()\n",
    "\n",
    "# apply a border around the input matrix of all '9's to allow a 3x3 matrix to convolve over all matrix points\n",
    "matrix = [[9] + [int(x) for x in line.replace(\"\\n\",\"\")] + [9] for line in lines]\n",
    "matrix = [[9]*102] + matrix + [[9]*102]"
   ]
  },
  {
   "cell_type": "markdown",
   "id": "5b6e1fd3",
   "metadata": {},
   "source": [
    "## Define Functions"
   ]
  },
  {
   "cell_type": "code",
   "execution_count": 3,
   "id": "6bec1c0d",
   "metadata": {},
   "outputs": [],
   "source": [
    "def convolve_matrix(matrix):\n",
    "    \"\"\"Function to convolve over a matrix to find low_points (points with a value lower than the surrounding points)\"\"\"\n",
    "    low_point_mtx = []\n",
    "    for y in range(1,len(matrix)-1,1):\n",
    "        row = []\n",
    "        for x in range(1,len(matrix)-1,1):\n",
    "            nearby_array =[matrix[y-1][x]]+[matrix[y][x-1]]+[matrix[y][x+1]]+[matrix[y+1][x]]\n",
    "            row.append(matrix[y][x] if min(nearby_array) > matrix[y][x] else -1)\n",
    "        low_point_mtx.append(row)\n",
    "    return low_point_mtx"
   ]
  },
  {
   "cell_type": "code",
   "execution_count": 4,
   "id": "68b73924",
   "metadata": {},
   "outputs": [],
   "source": [
    "def get_surrounding_points(df,point):\n",
    "    \"\"\"Function to get all points surrounding a provided point in a provided dataframe with a value < 9\"\"\"\n",
    "    x,y = point\n",
    "    nearby_points = [(x-1,y), (x+1,y), (x,y-1), (x,y+1)]\n",
    "    nearby_basin_points = [x for x in nearby_points if df.iloc[x[0],x[1]] < 9]\n",
    "    return nearby_basin_points"
   ]
  },
  {
   "cell_type": "code",
   "execution_count": 5,
   "id": "54f56425",
   "metadata": {},
   "outputs": [],
   "source": [
    "def explore_basin(df,point):\n",
    "    \"\"\"Function with looping logic to search around a low point for surrounding basin points\"\"\"\n",
    "    init_set_len = 1\n",
    "    surrounding_points = get_surrounding_points(df,point)\n",
    "    basin_points = [point] + surrounding_points\n",
    "    set_len = len(basin_points)\n",
    "    while set_len > init_set_len:\n",
    "        init_set_len = set_len\n",
    "        for point in basin_points:\n",
    "            surrounding_points = get_surrounding_points(df,point)\n",
    "            basin_points += surrounding_points\n",
    "            basin_points = list(set(basin_points))\n",
    "            set_len = len(basin_points)\n",
    "    return basin_points"
   ]
  },
  {
   "cell_type": "code",
   "execution_count": 6,
   "id": "77de2985",
   "metadata": {},
   "outputs": [],
   "source": [
    "def get_basin_size(df,low_point):\n",
    "    \"\"\"Function to return size of a basin surrounding a low point.\"\"\"\n",
    "    basin_points = explore_basin(df,low_point)\n",
    "    basin_size = len(basin_points)\n",
    "    return basin_size"
   ]
  },
  {
   "cell_type": "markdown",
   "id": "94db94e4",
   "metadata": {},
   "source": [
    "## Puzzle 1 - Smokin's bad, m-kay!\n",
    "In this problem, we are trying to detect low points in a numerical representation of a topographical map of the lava tubes we're traveling through (WHAT?!)  Smoke pools in the low points, so we want to avoid them.  A 'low point' is defined as a point that is lower than its surrounding points (up, down, left, right - no, that's not a Nintendo cheat code).  To address this problem, we are going to convolve over a matrix to produce an array of values for each point on the matrix, excluding the border. The array will include the point above, below, left and right of the center point (4 points total). If the minimum of this array is greater than the center point, then that center point is a 'low point'. For each point, we will return either a -1 if that point is NOT a low point, or the point value, if it IS a low point. This will be used to create a DataFrame.\n",
    "\n",
    "We will then add 1 to all values in the resulting DataFrame and sum the values to get our answer."
   ]
  },
  {
   "cell_type": "code",
   "execution_count": 7,
   "id": "1a52e5c1",
   "metadata": {},
   "outputs": [
    {
     "name": "stdout",
     "output_type": "stream",
     "text": [
      "Answer: 478\n"
     ]
    }
   ],
   "source": [
    "low_point_mtx = convolve_matrix(matrix)\n",
    "low_point_df = DataFrame(low_point_mtx)\n",
    "answer = (low_point_df + 1).sum().sum()\n",
    "print(f\"Answer: {answer}\")"
   ]
  },
  {
   "cell_type": "markdown",
   "id": "38e4c4e9",
   "metadata": {},
   "source": [
    "## Puzzle 2 - Feelin low\n",
    "We now need to evaluate how large the basins are. The basins are the areas surrounding the low points that have a height less than 9.  The strategey here is to start with the low point and access all of the surrounding points to see if their height is less than 9. For each surrounding point whose height is less than 9, we add that point to the set of points that belong to the basin. We then loop through this process for the larger pool of points until the set size stops increasing."
   ]
  },
  {
   "cell_type": "code",
   "execution_count": 8,
   "id": "0c700399",
   "metadata": {},
   "outputs": [
    {
     "name": "stdout",
     "output_type": "stream",
     "text": [
      "Answer: 1327014\n"
     ]
    }
   ],
   "source": [
    "df = DataFrame(matrix)\n",
    "low_points = []\n",
    "for x in range(0,100,1):\n",
    "    for y in range(0,100,1):\n",
    "        if low_point_df.iloc[x,y] > -1:\n",
    "            low_points.append((x+1,y+1))\n",
    "low_pt_df = DataFrame(Series(low_points))\n",
    "low_pt_df.columns = ['low_point']\n",
    "low_pt_df['basin_size'] = [get_basin_size(df,x) for x in low_pt_df['low_point']]\n",
    "low_pt_df.sort_values('basin_size', ascending=False, inplace=True)\n",
    "low_pt_df.reset_index(drop=True, inplace=True)\n",
    "three_basin_sizes = low_pt_df.iloc[0:3,1].values\n",
    "answer = three_basin_sizes[0] * three_basin_sizes[1] * three_basin_sizes[2]\n",
    "print(f\"Answer: {answer}\")"
   ]
  }
 ],
 "metadata": {
  "kernelspec": {
   "display_name": "Python 3.8.10 64-bit",
   "language": "python",
   "name": "python3"
  },
  "language_info": {
   "codemirror_mode": {
    "name": "ipython",
    "version": 3
   },
   "file_extension": ".py",
   "mimetype": "text/x-python",
   "name": "python",
   "nbconvert_exporter": "python",
   "pygments_lexer": "ipython3",
   "version": "3.8.10"
  },
  "vscode": {
   "interpreter": {
    "hash": "916dbcbb3f70747c44a77c7bcd40155683ae19c65e1c03b4aa3499c5328201f1"
   }
  }
 },
 "nbformat": 4,
 "nbformat_minor": 5
}
