{
 "cells": [
  {
   "cell_type": "markdown",
   "id": "00bf45f0",
   "metadata": {},
   "source": [
    "# Advent of Code Challenges - Day 6"
   ]
  },
  {
   "cell_type": "markdown",
   "id": "b9055175",
   "metadata": {},
   "source": [
    "## Load Libaries"
   ]
  },
  {
   "cell_type": "code",
   "execution_count": 1,
   "id": "c88e8441",
   "metadata": {},
   "outputs": [],
   "source": [
    "import numpy as np\n",
    "import pandas as pd\n",
    "\n",
    "from pandas import Series,DataFrame"
   ]
  },
  {
   "cell_type": "markdown",
   "id": "a8be6af1",
   "metadata": {},
   "source": [
    "## Load Data"
   ]
  },
  {
   "cell_type": "code",
   "execution_count": 2,
   "id": "40ddb5d5",
   "metadata": {},
   "outputs": [],
   "source": [
    "input_path = './input.txt'\n",
    "\n",
    "with open(input_path) as f:\n",
    "    lines = f.readlines()\n",
    "f.close()\n",
    "\n",
    "data = lines[0].split(\",\")\n",
    "data = [int(x) for x in data]"
   ]
  },
  {
   "cell_type": "markdown",
   "id": "50b5dca4",
   "metadata": {},
   "source": [
    "## Define Functions"
   ]
  },
  {
   "cell_type": "code",
   "execution_count": 3,
   "id": "97c0bc31",
   "metadata": {},
   "outputs": [],
   "source": [
    "def go_fish(data):\n",
    "    new_fish = [8]*data.count(0)\n",
    "    day = [x-1 if x > 0 else 6 for x in data]\n",
    "    day = day + new_fish\n",
    "    return day"
   ]
  },
  {
   "cell_type": "code",
   "execution_count": 35,
   "id": "359dd809",
   "metadata": {},
   "outputs": [],
   "source": [
    "def fish_for_days(data, days, verbose = False):\n",
    "    func_data = data.copy()\n",
    "    for day in range(0,days+1,1):\n",
    "        if day == 0:\n",
    "            if verbose:\n",
    "                print(f\"Initial State: {func_data}\")\n",
    "        else:\n",
    "            func_data = go_fish(func_data)\n",
    "            if verbose:\n",
    "                print(f\"Day {day}: {func_data}\")\n",
    "    return(func_data)"
   ]
  },
  {
   "cell_type": "markdown",
   "id": "38e4c4e9",
   "metadata": {},
   "source": [
    "## Puzzle 1 - Go Fish!\n",
    "We are going on an 80 day fishing excursion! Except we're counting fish instead of catching them. Count how many fish there will be after 80 days of observation if:\n",
    "- Each fish creates a new fish after 7 days\n",
    "- Each new fish only creates another new fish after its first 9 days\n",
    "- Assuming each fish lives forever"
   ]
  },
  {
   "cell_type": "code",
   "execution_count": 66,
   "id": "5c39bff9",
   "metadata": {},
   "outputs": [
    {
     "name": "stdout",
     "output_type": "stream",
     "text": [
      "346063 fish\n"
     ]
    }
   ],
   "source": [
    "day80_fish = fish_for_days(data,80, False)\n",
    "answer = len(day80_fish)\n",
    "print(f\"{answer} fish\")"
   ]
  },
  {
   "cell_type": "markdown",
   "id": "e14d094b",
   "metadata": {},
   "source": [
    "## Puzzle 2 - Just keep fishing, just keep fishing...\n",
    "The puzzle just got a lot longer, as in it's now 256 days of fish observations instead of 80. Let's see how many fish there are NOW!"
   ]
  },
  {
   "cell_type": "code",
   "execution_count": 36,
   "id": "94d39ccc",
   "metadata": {},
   "outputs": [
    {
     "name": "stdout",
     "output_type": "stream",
     "text": [
      "After 128 days, there are:\n",
      " -  1782178 '0' fish\n",
      " -  2546236 '1' fish\n",
      " -  2163078 '2' fish\n",
      " -  2887131 '3' fish\n",
      " -  2805964 '4' fish\n",
      " -  3111190 '5' fish\n",
      " -  3678137 '6' fish\n",
      " -  1603009 '7' fish\n",
      " -  2080233 '8' fish\n"
     ]
    }
   ],
   "source": [
    "day128_fish = fish_for_days(data,128)\n",
    "print(\"After 128 days, there are:\")\n",
    "fish_count_list = []\n",
    "for n in set(day128_fish):\n",
    "    count_n_fish = day128_fish.count(n)\n",
    "    fish_count_list.append(count_n_fish)\n",
    "    print(f\" -  {count_n_fish} '{n}' fish\")"
   ]
  },
  {
   "cell_type": "code",
   "execution_count": 37,
   "id": "97d13496",
   "metadata": {},
   "outputs": [
    {
     "name": "stdout",
     "output_type": "stream",
     "text": [
      "After 128 days:\n",
      " -  each '0' fish becomes 94508 fish.\n",
      " -  each '1' fish becomes 90763 fish.\n",
      " -  each '2' fish becomes 79321 fish.\n",
      " -  each '3' fish becomes 75638 fish.\n",
      " -  each '4' fish becomes 67616 fish.\n",
      " -  each '5' fish becomes 62475 fish.\n",
      " -  each '6' fish becomes 58016 fish.\n",
      " -  each '7' fish becomes 51564 fish.\n",
      " -  each '8' fish becomes 49380 fish.\n"
     ]
    }
   ],
   "source": [
    "n_fish_list = []\n",
    "print(\"After 128 days:\")\n",
    "for n in range(0,9,1):\n",
    "    num_fish = len(fish_for_days([n],128, False))\n",
    "    n_fish_list.append(num_fish)\n",
    "    print(f\" -  each '{n}' fish becomes {num_fish} fish.\")\n"
   ]
  },
  {
   "cell_type": "code",
   "execution_count": 38,
   "id": "a1bd4ca9",
   "metadata": {},
   "outputs": [
    {
     "name": "stdout",
     "output_type": "stream",
     "text": [
      "After 256 days, there are 1572358335990 total fish.\n"
     ]
    }
   ],
   "source": [
    "products = []\n",
    "for x, y in zip(n_fish_list, fish_count_list):\n",
    "    products.append(x*y)\n",
    "answer = Series(products).sum()\n",
    "print(f\"After 256 days, there are {answer} total fish.\")"
   ]
  }
 ],
 "metadata": {
  "kernelspec": {
   "display_name": "Python 3",
   "language": "python",
   "name": "python3"
  },
  "language_info": {
   "codemirror_mode": {
    "name": "ipython",
    "version": 3
   },
   "file_extension": ".py",
   "mimetype": "text/x-python",
   "name": "python",
   "nbconvert_exporter": "python",
   "pygments_lexer": "ipython3",
   "version": "3.9.2"
  }
 },
 "nbformat": 4,
 "nbformat_minor": 5
}
