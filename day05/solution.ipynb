{
 "cells": [
  {
   "cell_type": "markdown",
   "id": "00bf45f0",
   "metadata": {},
   "source": [
    "# Advent of Code Challenges - Day 5"
   ]
  },
  {
   "cell_type": "markdown",
   "id": "0ce6686a",
   "metadata": {},
   "source": [
    "## Load Libraries"
   ]
  },
  {
   "cell_type": "code",
   "execution_count": 1,
   "id": "c88e8441",
   "metadata": {},
   "outputs": [],
   "source": [
    "import numpy as np\n",
    "import pandas as pd\n",
    "\n",
    "from pandas import Series,DataFrame"
   ]
  },
  {
   "cell_type": "markdown",
   "id": "5c00de90",
   "metadata": {},
   "source": [
    "## Load Data"
   ]
  },
  {
   "cell_type": "code",
   "execution_count": 2,
   "id": "40ddb5d5",
   "metadata": {},
   "outputs": [],
   "source": [
    "# load data\n",
    "input_path = './input.txt'\n",
    "\n",
    "with open(input_path) as f:\n",
    "    lines = f.readlines()\n",
    "f.close()\n",
    "\n",
    "# Clean and prepare data\n",
    "data = []\n",
    "for line in lines:\n",
    "    points = line.replace(\"\\n\",\"\").split(\"->\")\n",
    "    y1, x1 = points[0].strip().split(\",\")\n",
    "    y2, x2 = points[1].strip().split(\",\")\n",
    "    row = [x1,y1,x2,y2]\n",
    "    data.append(row)\n",
    "\n",
    "# Convert to a pandas DataFrame\n",
    "df = DataFrame(data).astype(int)\n",
    "df.columns = ['X1', 'y1', 'X2', 'y2']\n",
    "\n",
    "# Calculate the maximum x and y values (num rows and num cols)\n",
    "x_max = max([df.X1.max(), df.X2.max()])\n",
    "y_max = max([df.y1.max(), df.y2.max()])"
   ]
  },
  {
   "cell_type": "markdown",
   "id": "202b5e28",
   "metadata": {},
   "source": [
    "## Define Functions"
   ]
  },
  {
   "cell_type": "code",
   "execution_count": 3,
   "id": "8edcc4b4",
   "metadata": {},
   "outputs": [],
   "source": [
    "def reset_map(x_max, y_max):\n",
    "    \"\"\"Create a dataframe that is 0 to x_max by 0 to y_max\"\"\"\n",
    "    map_df = [[0]*(y_max+1) for x in range(0,x_max+1,1)]\n",
    "    map_df = DataFrame(map_df)\n",
    "    return(map_df)"
   ]
  },
  {
   "cell_type": "code",
   "execution_count": 4,
   "id": "f43fbb99",
   "metadata": {},
   "outputs": [],
   "source": [
    "def desc_line(line):\n",
    "    \"\"\"\n",
    "    Function to return line starting at left side with slope\n",
    "    i.e. returns the plot point with the lowest X value as the first pair of numbers along with 1 or -1\n",
    "    \"\"\"\n",
    "    X1, y1, X2, y2 = line\n",
    "    if X1 < X2:\n",
    "        line_adj = [X1, y1, X2, y2]\n",
    "        if y1 < y2:\n",
    "            slope = 1\n",
    "        else:\n",
    "            slope = -1\n",
    "    else:\n",
    "        line_adj = [X2, y2, X1, y1]\n",
    "        if y1 < y2:\n",
    "            slope = -1\n",
    "        else:\n",
    "            slope = 1\n",
    "    return(line_adj,slope)"
   ]
  },
  {
   "cell_type": "markdown",
   "id": "38e4c4e9",
   "metadata": {},
   "source": [
    "## Puzzle 1 - Let's play Battleship!\n",
    "1. Split the dataframe into a df with vertical lines an one with horizontal lines\n",
    "2. Reset the map dataframe to all 0's.\n",
    "3. Iterate through the horizontal and vertical lines and add 1 to each point on the map for each point on the line.\n",
    "4. Sum the number of elements with value > 1"
   ]
  },
  {
   "cell_type": "code",
   "execution_count": 5,
   "id": "091030e1",
   "metadata": {},
   "outputs": [
    {
     "name": "stdout",
     "output_type": "stream",
     "text": [
      "Anser: 6113\n"
     ]
    }
   ],
   "source": [
    "vert_df = df[df.y1 == df.y2]\n",
    "vert_df.reset_index(drop=True, inplace=True)\n",
    "\n",
    "horz_df = df[df.X1 == df.X2]\n",
    "horz_df.reset_index(drop=True, inplace=True)\n",
    "\n",
    "map_df = reset_map(x_max, y_max)\n",
    "for line in horz_df.values:\n",
    "    line = [[line[0],y] for y in range(min(line[1],line[3]),max(line[1],line[3])+1,1)]\n",
    "    for point in line:\n",
    "        map_df.iloc[point[0], point[1]] += 1\n",
    "\n",
    "for line in vert_df.values:\n",
    "    line = [[x,line[1]] for x in range(min(line[0],line[2]),max(line[0],line[2])+1,1)]\n",
    "    for point in line:\n",
    "         map_df.iloc[point[0], point[1]] += 1\n",
    "            \n",
    "# Answer is the count of elements in the map_df where the value is > 1\n",
    "answer = (map_df > 1).sum(axis=1).sum()\n",
    "print(f\"Anser: {answer}\")"
   ]
  },
  {
   "cell_type": "markdown",
   "id": "e14d094b",
   "metadata": {},
   "source": [
    "## Puzzle 2 - You can't put your ship on a diagonal!\n",
    "Reset data so puzzle 2 can be run from **here** down."
   ]
  },
  {
   "cell_type": "code",
   "execution_count": 6,
   "id": "bceffc92",
   "metadata": {},
   "outputs": [],
   "source": [
    "vert_df = df[df.y1 == df.y2]\n",
    "vert_df.reset_index(drop=True, inplace=True)\n",
    "\n",
    "horz_df = df[df.X1 == df.X2]\n",
    "horz_df.reset_index(drop=True, inplace=True)\n",
    "\n",
    "diag_df = df[df.X1 != df.X2]\n",
    "diag_df.reset_index(drop=True, inplace=True)\n",
    "diag_df = diag_df[diag_df.y1 != diag_df.y2]\n",
    "diag_df.reset_index(drop=True, inplace=True)"
   ]
  },
  {
   "cell_type": "code",
   "execution_count": 7,
   "id": "3d3d0527",
   "metadata": {},
   "outputs": [
    {
     "name": "stdout",
     "output_type": "stream",
     "text": [
      "Vertical Lines: 152\n",
      "Horizontal Lines: 177\n",
      "Diagonal Lines: 171\n",
      "Count All Lines: 500\n"
     ]
    }
   ],
   "source": [
    "# verify that diagonal line count matches with original shape less horizontal and vertial line counts\n",
    "print(f\"Vertical Lines: {vert_df.shape[0]}\")\n",
    "print(f\"Horizontal Lines: {horz_df.shape[0]}\")\n",
    "print(f\"Diagonal Lines: {diag_df.shape[0]}\")\n",
    "print(f\"Count All Lines: {vert_df.shape[0] + horz_df.shape[0] + diag_df.shape[0]}\")"
   ]
  },
  {
   "cell_type": "markdown",
   "id": "e327c662",
   "metadata": {},
   "source": [
    "1. Split the dataframe into a df with vertical lines an one with horizontal lines\n",
    "2. Reset the map dataframe to all 0's.\n",
    "3. Iterate through the horizontal, vertical, and diagonal lines and add 1 to each point on the map for each point on the line.\n",
    "4. Sum the number of elements with value > 1"
   ]
  },
  {
   "cell_type": "code",
   "execution_count": 8,
   "id": "8d248ad9",
   "metadata": {},
   "outputs": [
    {
     "name": "stdout",
     "output_type": "stream",
     "text": [
      "Answer: 20373\n"
     ]
    }
   ],
   "source": [
    "map_df = reset_map(x_max, y_max)\n",
    "for line in horz_df.values:\n",
    "    line = [[line[0],y] for y in range(min(line[1],line[3]),max(line[1],line[3])+1,1)]\n",
    "    for point in line:\n",
    "        map_df.iloc[point[0], point[1]] += 1\n",
    "\n",
    "for line in vert_df.values:\n",
    "    line = [[x,line[1]] for x in range(min(line[0],line[2]),max(line[0],line[2])+1,1)]\n",
    "    for point in line:\n",
    "         map_df.iloc[point[0], point[1]] += 1\n",
    "\n",
    "for line in diag_df.values:\n",
    "    line_adj, slope = desc_line(line)\n",
    "    x0, y0 = line_adj[0:2]\n",
    "    line_len = abs(line_adj[0]-line_adj[2])\n",
    "    if slope == 1:\n",
    "        line_pts = [[x0+n, y0+n] for n in range(0,line_len+1,1)]\n",
    "    else:\n",
    "        line_pts = [[x0+n, y0-n] for n in range(0,line_len+1,1)]\n",
    "    for point in line_pts:\n",
    "        map_df.iloc[point[0], point[1]] += 1\n",
    "        \n",
    "# Answer is the count of elements in the map_df where the value is > 1\n",
    "answer = (map_df > 1).sum(axis=1).sum()\n",
    "print(f\"Answer: {answer}\")"
   ]
  }
 ],
 "metadata": {
  "kernelspec": {
   "display_name": "Python 3",
   "language": "python",
   "name": "python3"
  },
  "language_info": {
   "codemirror_mode": {
    "name": "ipython",
    "version": 3
   },
   "file_extension": ".py",
   "mimetype": "text/x-python",
   "name": "python",
   "nbconvert_exporter": "python",
   "pygments_lexer": "ipython3",
   "version": "3.9.2"
  }
 },
 "nbformat": 4,
 "nbformat_minor": 5
}
